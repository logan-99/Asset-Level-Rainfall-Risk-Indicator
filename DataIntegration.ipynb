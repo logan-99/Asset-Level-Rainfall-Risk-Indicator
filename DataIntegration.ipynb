{
  "nbformat": 4,
  "nbformat_minor": 0,
  "metadata": {
    "colab": {
      "provenance": []
    },
    "kernelspec": {
      "name": "python3",
      "display_name": "Python 3"
    },
    "language_info": {
      "name": "python"
    }
  },
  "cells": [
    {
      "cell_type": "code",
      "execution_count": null,
      "metadata": {
        "id": "EhE53cGX7bOg"
      },
      "outputs": [],
      "source": [
        "import pandas as pd"
      ]
    },
    {
      "cell_type": "code",
      "source": [
        "from google.colab import drive\n",
        "drive.mount('/content/drive')"
      ],
      "metadata": {
        "colab": {
          "base_uri": "https://localhost:8080/"
        },
        "id": "gmN1BfbILgo2",
        "outputId": "fe09463c-46a9-41eb-c961-5df288370c56"
      },
      "execution_count": null,
      "outputs": [
        {
          "output_type": "stream",
          "name": "stdout",
          "text": [
            "Mounted at /content/drive\n"
          ]
        }
      ]
    },
    {
      "cell_type": "code",
      "source": [
        "df_assets_info = pd.read_csv('/content/drive/MyDrive/RS Metrics - Datasets/nippon_steel_asset_info.csv')"
      ],
      "metadata": {
        "id": "_RUNbbZ0-waD"
      },
      "execution_count": null,
      "outputs": []
    },
    {
      "cell_type": "code",
      "source": [
        "df_assets_info.drop(['Latitude' ,'Longitude'], axis = 1, inplace = True)"
      ],
      "metadata": {
        "id": "uIel2RYvfFjL"
      },
      "execution_count": null,
      "outputs": []
    },
    {
      "cell_type": "code",
      "source": [
        "df_assets_info.isna().sum()"
      ],
      "metadata": {
        "colab": {
          "base_uri": "https://localhost:8080/"
        },
        "id": "DKGysVUWM9--",
        "outputId": "0fc31b0c-50e6-4496-abb8-341834a08443"
      },
      "execution_count": null,
      "outputs": [
        {
          "output_type": "execute_result",
          "data": {
            "text/plain": [
              "Location ID            0\n",
              "LocationName           0\n",
              "LocationTypeGeneral    0\n",
              "Sector                 0\n",
              "Industry               0\n",
              "SubIndustry            0\n",
              "CountryName            0\n",
              "dtype: int64"
            ]
          },
          "metadata": {},
          "execution_count": 5
        }
      ]
    },
    {
      "cell_type": "code",
      "source": [
        "!pip install pyspark py4j"
      ],
      "metadata": {
        "colab": {
          "base_uri": "https://localhost:8080/"
        },
        "id": "2LYLXV8_-6Vu",
        "outputId": "75168128-137c-4d04-a37b-d8060608c331"
      },
      "execution_count": null,
      "outputs": [
        {
          "output_type": "stream",
          "name": "stdout",
          "text": [
            "Collecting pyspark\n",
            "  Downloading pyspark-3.4.1.tar.gz (310.8 MB)\n",
            "\u001b[2K     \u001b[90m━━━━━━━━━━━━━━━━━━━━━━━━━━━━━━━━━━━━━━━\u001b[0m \u001b[32m310.8/310.8 MB\u001b[0m \u001b[31m4.6 MB/s\u001b[0m eta \u001b[36m0:00:00\u001b[0m\n",
            "\u001b[?25h  Preparing metadata (setup.py) ... \u001b[?25l\u001b[?25hdone\n",
            "Requirement already satisfied: py4j in /usr/local/lib/python3.10/dist-packages (0.10.9.7)\n",
            "Building wheels for collected packages: pyspark\n",
            "  Building wheel for pyspark (setup.py) ... \u001b[?25l\u001b[?25hdone\n",
            "  Created wheel for pyspark: filename=pyspark-3.4.1-py2.py3-none-any.whl size=311285387 sha256=34a432b4e66932a062d9b72a5ad1fe092a3f7f4b6b49493a8330da7f6f1920e6\n",
            "  Stored in directory: /root/.cache/pip/wheels/0d/77/a3/ff2f74cc9ab41f8f594dabf0579c2a7c6de920d584206e0834\n",
            "Successfully built pyspark\n",
            "Installing collected packages: pyspark\n",
            "Successfully installed pyspark-3.4.1\n"
          ]
        }
      ]
    },
    {
      "cell_type": "code",
      "source": [
        "from pyspark.sql import SparkSession"
      ],
      "metadata": {
        "id": "-dlcb6mr_Go9"
      },
      "execution_count": null,
      "outputs": []
    },
    {
      "cell_type": "code",
      "source": [
        "spark = SparkSession.builder.appName('RSMetrics').getOrCreate()"
      ],
      "metadata": {
        "id": "Ye5C9sqn_Vz2"
      },
      "execution_count": null,
      "outputs": []
    },
    {
      "cell_type": "code",
      "source": [
        "spark"
      ],
      "metadata": {
        "colab": {
          "base_uri": "https://localhost:8080/",
          "height": 221
        },
        "id": "0PpyYalk_iLt",
        "outputId": "88f598df-3020-45a2-f8d7-387cf9947865"
      },
      "execution_count": null,
      "outputs": [
        {
          "output_type": "execute_result",
          "data": {
            "text/plain": [
              "<pyspark.sql.session.SparkSession at 0x793521cc5810>"
            ],
            "text/html": [
              "\n",
              "            <div>\n",
              "                <p><b>SparkSession - in-memory</b></p>\n",
              "                \n",
              "        <div>\n",
              "            <p><b>SparkContext</b></p>\n",
              "\n",
              "            <p><a href=\"http://f901dc53cb87:4040\">Spark UI</a></p>\n",
              "\n",
              "            <dl>\n",
              "              <dt>Version</dt>\n",
              "                <dd><code>v3.4.1</code></dd>\n",
              "              <dt>Master</dt>\n",
              "                <dd><code>local[*]</code></dd>\n",
              "              <dt>AppName</dt>\n",
              "                <dd><code>RSMetrics</code></dd>\n",
              "            </dl>\n",
              "        </div>\n",
              "        \n",
              "            </div>\n",
              "        "
            ]
          },
          "metadata": {},
          "execution_count": 9
        }
      ]
    },
    {
      "cell_type": "code",
      "source": [
        "py_info = spark.createDataFrame(df_assets_info)"
      ],
      "metadata": {
        "id": "5M_LesNh_kuG"
      },
      "execution_count": null,
      "outputs": []
    },
    {
      "cell_type": "code",
      "source": [
        "py_info.show()"
      ],
      "metadata": {
        "colab": {
          "base_uri": "https://localhost:8080/"
        },
        "id": "JFPkM-3WOANy",
        "outputId": "a210e5f9-abb0-4368-e4e7-5d4183258383"
      },
      "execution_count": null,
      "outputs": [
        {
          "output_type": "stream",
          "name": "stdout",
          "text": [
            "+-----------+--------------------+-------------------+---------+---------------+-----------+--------------------+\n",
            "|Location ID|        LocationName|LocationTypeGeneral|   Sector|       Industry|SubIndustry|         CountryName|\n",
            "+-----------+--------------------+-------------------+---------+---------------+-----------+--------------------+\n",
            "|   ESG_7306|Sumitomo Osaka Of...|             Office|Materials|Metals & Mining|      Steel|               Japan|\n",
            "|   ESG_7322|Hyuga Smelting Plant|              Plant|Materials|Metals & Mining|      Steel|               Japan|\n",
            "|   ESG_8033|Tek and Kote Stee...|              Plant|Materials|Metals & Mining|      Steel|United States of ...|\n",
            "|   ESG_8275|Usinas Steel Belo...|              Plant|Materials|Metals & Mining|      Steel|              Brazil|\n",
            "|   ESG_8276|Usiminas Ipatinga...|              Plant|Materials|Metals & Mining|      Steel|              Brazil|\n",
            "|   ESG_8277|Vallourec Solucoe...|              Plant|Materials|Metals & Mining|      Steel|              Brazil|\n",
            "|   ESG_8278|Ternium Pesqueria...|              Plant|Materials|Metals & Mining|      Steel|              Mexico|\n",
            "|   ESG_8279|Nippon Steel Pipe...|              Plant|Materials|Metals & Mining|      Steel|              Mexico|\n",
            "|   ESG_8280|Nippon Standard S...|              Plant|Materials|Metals & Mining|      Steel|United States of ...|\n",
            "|   ESG_8281|Nippon Steel Inte...|              Plant|Materials|Metals & Mining|      Steel|United States of ...|\n",
            "|   ESG_8282|Nippon Steel Pipe...|              Plant|Materials|Metals & Mining|      Steel|United States of ...|\n",
            "|   ESG_8283|Nippon Steel Inte...|              Plant|Materials|Metals & Mining|      Steel|United States of ...|\n",
            "|   ESG_8284|Vallourec Houston...|              Plant|Materials|Metals & Mining|      Steel|United States of ...|\n",
            "|   ESG_8287|AM NS Calvert Ste...|              Plant|Materials|Metals & Mining|      Steel|United States of ...|\n",
            "|   ESG_8288|Suzuki Garphyttan...|              Plant|Materials|Metals & Mining|      Steel|United States of ...|\n",
            "|   ESG_8291|Al Ghurair Iron S...|              Plant|Materials|Metals & Mining|      Steel|United Arab Emirates|\n",
            "|   ESG_8294|Nippon Steel Pipe...|              Plant|Materials|Metals & Mining|      Steel|            Thailand|\n",
            "|   ESG_8295|Nippon Steel Bar ...|              Plant|Materials|Metals & Mining|      Steel|            Thailand|\n",
            "|   ESG_8296|Nippon Steel Siam...|              Plant|Materials|Metals & Mining|      Steel|            Thailand|\n",
            "|   ESG_8297|Siam Tinplate Ray...|              Plant|Materials|Metals & Mining|      Steel|            Thailand|\n",
            "+-----------+--------------------+-------------------+---------+---------------+-----------+--------------------+\n",
            "only showing top 20 rows\n",
            "\n"
          ]
        }
      ]
    },
    {
      "cell_type": "code",
      "source": [
        "py_2018 = spark.read.csv('/content/drive/MyDrive/RS Metrics - Datasets/Merged2018.csv', header = True, inferSchema=True)\n",
        "py_2019 = spark.read.csv('/content/drive/MyDrive/RS Metrics - Datasets/Merged2019.csv', header = True, inferSchema=True)\n",
        "py_2020 = spark.read.csv('/content/drive/MyDrive/RS Metrics - Datasets/Merged2020.csv', header = True, inferSchema=True)\n",
        "py_2021 = spark.read.csv('/content/drive/MyDrive/RS Metrics - Datasets/Merged2021.csv', header = True, inferSchema=True)\n",
        "py_2022 = spark.read.csv('/content/drive/MyDrive/RS Metrics - Datasets/Merged2022.csv', header = True, inferSchema=True)\n",
        "py_2023 = spark.read.csv('/content/drive/MyDrive/RS Metrics - Datasets/Merged2023.csv', header = True, inferSchema=True)"
      ],
      "metadata": {
        "id": "ujzPHmZMOD5J"
      },
      "execution_count": null,
      "outputs": []
    },
    {
      "cell_type": "code",
      "source": [
        "py_rainfall = py_2018.union(py_2019).union(py_2020).union(py_2021).union(py_2022).union(py_2023)"
      ],
      "metadata": {
        "id": "f7BPpAVwSgB8"
      },
      "execution_count": null,
      "outputs": []
    },
    {
      "cell_type": "code",
      "source": [
        "py_rainfall.count()"
      ],
      "metadata": {
        "colab": {
          "base_uri": "https://localhost:8080/"
        },
        "id": "PhHDxM5wSgMA",
        "outputId": "6a63279d-1ba2-4a6a-be5d-14585e71f80a"
      },
      "execution_count": null,
      "outputs": [
        {
          "output_type": "execute_result",
          "data": {
            "text/plain": [
              "69090"
            ]
          },
          "metadata": {},
          "execution_count": 37
        }
      ]
    },
    {
      "cell_type": "code",
      "source": [
        "py_rainfall.show()"
      ],
      "metadata": {
        "colab": {
          "base_uri": "https://localhost:8080/"
        },
        "id": "5nxI1eQlWsHt",
        "outputId": "0c410924-ba7a-412f-bd3d-1f0a6995710a"
      },
      "execution_count": null,
      "outputs": [
        {
          "output_type": "stream",
          "name": "stdout",
          "text": [
            "+---------+-----------+-----------------------+-----------+-----------+\n",
            "|Year_Week|Location ID|Precipitation (mm/week)|   Latitude|  Longitude|\n",
            "+---------+-----------+-----------------------+-----------+-----------+\n",
            "|  2018-01|   ESG_7306|     162.92968683866604|34.69200035|135.4991346|\n",
            "|  2018-02|   ESG_7306|      97.95245834716468|34.69200035|135.4991346|\n",
            "|  2018-03|   ESG_7306|     12.509563760371773|34.69200035|135.4991346|\n",
            "|  2018-04|   ESG_7306|     24.143830504881983|34.69200035|135.4991346|\n",
            "|  2018-05|   ESG_7306|     114.55654900699268|34.69200035|135.4991346|\n",
            "|  2018-06|   ESG_7306|      42.37310381346912|34.69200035|135.4991346|\n",
            "|  2018-07|   ESG_7306|      72.23472046044962|34.69200035|135.4991346|\n",
            "|  2018-08|   ESG_7306|     134.87847853397915|34.69200035|135.4991346|\n",
            "|  2018-09|   ESG_7306|      208.2857495759924|34.69200035|135.4991346|\n",
            "|  2018-10|   ESG_7306|     168.49420713072317|34.69200035|135.4991346|\n",
            "|  2018-11|   ESG_7306|      386.1015191670762|34.69200035|135.4991346|\n",
            "|  2018-12|   ESG_7306|                    0.0|34.69200035|135.4991346|\n",
            "|  2018-13|   ESG_7306|      20.68454827525306|34.69200035|135.4991346|\n",
            "|  2018-14|   ESG_7306|      73.49694374320553|34.69200035|135.4991346|\n",
            "|  2018-15|   ESG_7306|     114.06681753936058|34.69200035|135.4991346|\n",
            "|  2018-16|   ESG_7306|     365.72770567515175|34.69200035|135.4991346|\n",
            "|  2018-17|   ESG_7306|      81.31903902524535|34.69200035|135.4991346|\n",
            "|  2018-18|   ESG_7306|      311.2113968622779|34.69200035|135.4991346|\n",
            "|  2018-19|   ESG_7306|      244.4792832777416|34.69200035|135.4991346|\n",
            "|  2018-20|   ESG_7306|      41.80964288587372|34.69200035|135.4991346|\n",
            "+---------+-----------+-----------------------+-----------+-----------+\n",
            "only showing top 20 rows\n",
            "\n"
          ]
        }
      ]
    },
    {
      "cell_type": "code",
      "source": [
        "#df_rainfall = py_rainfall.toPandas()"
      ],
      "metadata": {
        "id": "S-XG4tplSgPt"
      },
      "execution_count": null,
      "outputs": []
    },
    {
      "cell_type": "code",
      "source": [
        "#df_rainfall.to_csv(\"/content/drive/MyDrive/RS Metrics - Datasets/All_Merged.csv\", index = False)"
      ],
      "metadata": {
        "id": "lcoWiMxUSgTI"
      },
      "execution_count": null,
      "outputs": []
    },
    {
      "cell_type": "code",
      "source": [
        "#columns_to_drop = ['Latitude' ,'Longitude']\n",
        "#py_rainfall = py_rainfall.drop(*columns_to_drop)"
      ],
      "metadata": {
        "id": "Q6qXn3ktYZon"
      },
      "execution_count": null,
      "outputs": []
    },
    {
      "cell_type": "code",
      "source": [
        "py_rainfall = py_rainfall.withColumnRenamed(\"Location ID\", \"Rainfall Location ID\")"
      ],
      "metadata": {
        "id": "SDmaEOgFgUxL"
      },
      "execution_count": null,
      "outputs": []
    },
    {
      "cell_type": "code",
      "source": [
        "py_rainfall = py_rainfall.join(py_info, py_rainfall['Rainfall Location ID']==py_info['Location ID'])"
      ],
      "metadata": {
        "id": "KXDzAhJlW0w-"
      },
      "execution_count": null,
      "outputs": []
    },
    {
      "cell_type": "code",
      "source": [
        "#py_rainfall = py_rainfall.drop('Location')"
      ],
      "metadata": {
        "id": "DXhTMYkxYHGk"
      },
      "execution_count": null,
      "outputs": []
    },
    {
      "cell_type": "code",
      "source": [
        "df_rainfall = py_rainfall.toPandas()"
      ],
      "metadata": {
        "id": "wGnw2AHaYHJV"
      },
      "execution_count": null,
      "outputs": []
    },
    {
      "cell_type": "code",
      "source": [
        "df_rainfall.to_csv(\"/content/drive/MyDrive/RS Metrics - Datasets/Rainfall Data All Merged.csv\", index = False)"
      ],
      "metadata": {
        "id": "XfcjiKTWYHMC"
      },
      "execution_count": null,
      "outputs": []
    },
    {
      "cell_type": "code",
      "source": [
        "py_rainfall = py_rainfall.drop('Location ID')"
      ],
      "metadata": {
        "id": "EI7Ea5lUdO68"
      },
      "execution_count": null,
      "outputs": []
    },
    {
      "cell_type": "code",
      "source": [
        "py_rainfall.printSchema()"
      ],
      "metadata": {
        "colab": {
          "base_uri": "https://localhost:8080/"
        },
        "id": "oGkyerCNgrgq",
        "outputId": "7cb61a29-c06e-4b5a-d5c9-aa9d9d383d18"
      },
      "execution_count": null,
      "outputs": [
        {
          "output_type": "stream",
          "name": "stdout",
          "text": [
            "root\n",
            " |-- Year_Week: string (nullable = true)\n",
            " |-- Rainfall Location ID: string (nullable = true)\n",
            " |-- Precipitation (mm/week): double (nullable = true)\n",
            " |-- Latitude: double (nullable = true)\n",
            " |-- Longitude: double (nullable = true)\n",
            " |-- LocationName: string (nullable = true)\n",
            " |-- LocationTypeGeneral: string (nullable = true)\n",
            " |-- Sector: string (nullable = true)\n",
            " |-- Industry: string (nullable = true)\n",
            " |-- SubIndustry: string (nullable = true)\n",
            " |-- CountryName: string (nullable = true)\n",
            "\n"
          ]
        }
      ]
    },
    {
      "cell_type": "code",
      "source": [],
      "metadata": {
        "id": "0H0EHdSWqTmn"
      },
      "execution_count": null,
      "outputs": []
    },
    {
      "cell_type": "code",
      "source": [
        "distinct_country_names = py_rainfall.select(\"CountryName\").distinct()\n",
        "distinct_country_names.show(21)"
      ],
      "metadata": {
        "colab": {
          "base_uri": "https://localhost:8080/"
        },
        "id": "Gr0JzB_ae6nz",
        "outputId": "a3e37498-ef4c-4d87-8f5a-39e1c73dbbb9"
      },
      "execution_count": null,
      "outputs": [
        {
          "output_type": "stream",
          "name": "stdout",
          "text": [
            "+--------------------+\n",
            "|         CountryName|\n",
            "+--------------------+\n",
            "|              Sweden|\n",
            "|            Malaysia|\n",
            "|             Germany|\n",
            "|   Brunei Darussalam|\n",
            "|               India|\n",
            "|               China|\n",
            "|            Thailand|\n",
            "|United States of ...|\n",
            "|              Mexico|\n",
            "|           Indonesia|\n",
            "|        Saudi Arabia|\n",
            "|United Arab Emirates|\n",
            "|United Kingdom of...|\n",
            "|              Brazil|\n",
            "|            Viet Nam|\n",
            "|               Japan|\n",
            "|           Australia|\n",
            "|           Singapore|\n",
            "|             Nigeria|\n",
            "|              Canada|\n",
            "|        South Africa|\n",
            "+--------------------+\n",
            "\n"
          ]
        }
      ]
    },
    {
      "cell_type": "code",
      "source": [
        "py_rainfall.select('Industry').distinct().show()"
      ],
      "metadata": {
        "colab": {
          "base_uri": "https://localhost:8080/"
        },
        "id": "A7rxwDQ5dRyl",
        "outputId": "32d52770-e0d2-45be-8b08-2001cc05805e"
      },
      "execution_count": null,
      "outputs": [
        {
          "output_type": "stream",
          "name": "stdout",
          "text": [
            "+--------------------+\n",
            "|            Industry|\n",
            "+--------------------+\n",
            "|     Metals & Mining|\n",
            "|Professional Serv...|\n",
            "|           Chemicals|\n",
            "|Air Freight & Log...|\n",
            "|Oil, Gas & Consum...|\n",
            "+--------------------+\n",
            "\n"
          ]
        }
      ]
    },
    {
      "cell_type": "code",
      "source": [
        "df_rainfall = py_rainfall.toPandas()"
      ],
      "metadata": {
        "id": "rHprrOXNkkQC"
      },
      "execution_count": null,
      "outputs": []
    },
    {
      "cell_type": "code",
      "source": [
        "# Split 'Year_Week' into 'Year' and 'Week' columns\n",
        "df_rainfall[['Year', 'Week']] = df_rainfall['Year_Week'].str.split('-', expand=True)\n",
        "df_rainfall.head()"
      ],
      "metadata": {
        "colab": {
          "base_uri": "https://localhost:8080/",
          "height": 310
        },
        "id": "YKtW0FtpA8PS",
        "outputId": "4f027406-3c50-47b9-bb9a-7fda49257780"
      },
      "execution_count": null,
      "outputs": [
        {
          "output_type": "execute_result",
          "data": {
            "text/plain": [
              "  Year_Week Rainfall Location ID  Precipitation (mm/week)  Latitude  \\\n",
              "0   2023-36             ESG_7306                16.611677    34.692   \n",
              "1   2023-35             ESG_7306                10.962413    34.692   \n",
              "2   2023-34             ESG_7306               118.319349    34.692   \n",
              "3   2023-33             ESG_7306               243.764635    34.692   \n",
              "4   2023-32             ESG_7306                18.451549    34.692   \n",
              "\n",
              "    Longitude           LocationName LocationTypeGeneral     Sector  \\\n",
              "0  135.499135  Sumitomo Osaka Office              Office  Materials   \n",
              "1  135.499135  Sumitomo Osaka Office              Office  Materials   \n",
              "2  135.499135  Sumitomo Osaka Office              Office  Materials   \n",
              "3  135.499135  Sumitomo Osaka Office              Office  Materials   \n",
              "4  135.499135  Sumitomo Osaka Office              Office  Materials   \n",
              "\n",
              "          Industry SubIndustry CountryName  Year Week  \n",
              "0  Metals & Mining       Steel       Japan  2023   36  \n",
              "1  Metals & Mining       Steel       Japan  2023   35  \n",
              "2  Metals & Mining       Steel       Japan  2023   34  \n",
              "3  Metals & Mining       Steel       Japan  2023   33  \n",
              "4  Metals & Mining       Steel       Japan  2023   32  "
            ],
            "text/html": [
              "\n",
              "  <div id=\"df-d836c802-f6e6-40a0-9ad2-1af219ed9cca\" class=\"colab-df-container\">\n",
              "    <div>\n",
              "<style scoped>\n",
              "    .dataframe tbody tr th:only-of-type {\n",
              "        vertical-align: middle;\n",
              "    }\n",
              "\n",
              "    .dataframe tbody tr th {\n",
              "        vertical-align: top;\n",
              "    }\n",
              "\n",
              "    .dataframe thead th {\n",
              "        text-align: right;\n",
              "    }\n",
              "</style>\n",
              "<table border=\"1\" class=\"dataframe\">\n",
              "  <thead>\n",
              "    <tr style=\"text-align: right;\">\n",
              "      <th></th>\n",
              "      <th>Year_Week</th>\n",
              "      <th>Rainfall Location ID</th>\n",
              "      <th>Precipitation (mm/week)</th>\n",
              "      <th>Latitude</th>\n",
              "      <th>Longitude</th>\n",
              "      <th>LocationName</th>\n",
              "      <th>LocationTypeGeneral</th>\n",
              "      <th>Sector</th>\n",
              "      <th>Industry</th>\n",
              "      <th>SubIndustry</th>\n",
              "      <th>CountryName</th>\n",
              "      <th>Year</th>\n",
              "      <th>Week</th>\n",
              "    </tr>\n",
              "  </thead>\n",
              "  <tbody>\n",
              "    <tr>\n",
              "      <th>0</th>\n",
              "      <td>2023-36</td>\n",
              "      <td>ESG_7306</td>\n",
              "      <td>16.611677</td>\n",
              "      <td>34.692</td>\n",
              "      <td>135.499135</td>\n",
              "      <td>Sumitomo Osaka Office</td>\n",
              "      <td>Office</td>\n",
              "      <td>Materials</td>\n",
              "      <td>Metals &amp; Mining</td>\n",
              "      <td>Steel</td>\n",
              "      <td>Japan</td>\n",
              "      <td>2023</td>\n",
              "      <td>36</td>\n",
              "    </tr>\n",
              "    <tr>\n",
              "      <th>1</th>\n",
              "      <td>2023-35</td>\n",
              "      <td>ESG_7306</td>\n",
              "      <td>10.962413</td>\n",
              "      <td>34.692</td>\n",
              "      <td>135.499135</td>\n",
              "      <td>Sumitomo Osaka Office</td>\n",
              "      <td>Office</td>\n",
              "      <td>Materials</td>\n",
              "      <td>Metals &amp; Mining</td>\n",
              "      <td>Steel</td>\n",
              "      <td>Japan</td>\n",
              "      <td>2023</td>\n",
              "      <td>35</td>\n",
              "    </tr>\n",
              "    <tr>\n",
              "      <th>2</th>\n",
              "      <td>2023-34</td>\n",
              "      <td>ESG_7306</td>\n",
              "      <td>118.319349</td>\n",
              "      <td>34.692</td>\n",
              "      <td>135.499135</td>\n",
              "      <td>Sumitomo Osaka Office</td>\n",
              "      <td>Office</td>\n",
              "      <td>Materials</td>\n",
              "      <td>Metals &amp; Mining</td>\n",
              "      <td>Steel</td>\n",
              "      <td>Japan</td>\n",
              "      <td>2023</td>\n",
              "      <td>34</td>\n",
              "    </tr>\n",
              "    <tr>\n",
              "      <th>3</th>\n",
              "      <td>2023-33</td>\n",
              "      <td>ESG_7306</td>\n",
              "      <td>243.764635</td>\n",
              "      <td>34.692</td>\n",
              "      <td>135.499135</td>\n",
              "      <td>Sumitomo Osaka Office</td>\n",
              "      <td>Office</td>\n",
              "      <td>Materials</td>\n",
              "      <td>Metals &amp; Mining</td>\n",
              "      <td>Steel</td>\n",
              "      <td>Japan</td>\n",
              "      <td>2023</td>\n",
              "      <td>33</td>\n",
              "    </tr>\n",
              "    <tr>\n",
              "      <th>4</th>\n",
              "      <td>2023-32</td>\n",
              "      <td>ESG_7306</td>\n",
              "      <td>18.451549</td>\n",
              "      <td>34.692</td>\n",
              "      <td>135.499135</td>\n",
              "      <td>Sumitomo Osaka Office</td>\n",
              "      <td>Office</td>\n",
              "      <td>Materials</td>\n",
              "      <td>Metals &amp; Mining</td>\n",
              "      <td>Steel</td>\n",
              "      <td>Japan</td>\n",
              "      <td>2023</td>\n",
              "      <td>32</td>\n",
              "    </tr>\n",
              "  </tbody>\n",
              "</table>\n",
              "</div>\n",
              "    <div class=\"colab-df-buttons\">\n",
              "\n",
              "  <div class=\"colab-df-container\">\n",
              "    <button class=\"colab-df-convert\" onclick=\"convertToInteractive('df-d836c802-f6e6-40a0-9ad2-1af219ed9cca')\"\n",
              "            title=\"Convert this dataframe to an interactive table.\"\n",
              "            style=\"display:none;\">\n",
              "\n",
              "  <svg xmlns=\"http://www.w3.org/2000/svg\" height=\"24px\" viewBox=\"0 -960 960 960\">\n",
              "    <path d=\"M120-120v-720h720v720H120Zm60-500h600v-160H180v160Zm220 220h160v-160H400v160Zm0 220h160v-160H400v160ZM180-400h160v-160H180v160Zm440 0h160v-160H620v160ZM180-180h160v-160H180v160Zm440 0h160v-160H620v160Z\"/>\n",
              "  </svg>\n",
              "    </button>\n",
              "\n",
              "  <style>\n",
              "    .colab-df-container {\n",
              "      display:flex;\n",
              "      gap: 12px;\n",
              "    }\n",
              "\n",
              "    .colab-df-convert {\n",
              "      background-color: #E8F0FE;\n",
              "      border: none;\n",
              "      border-radius: 50%;\n",
              "      cursor: pointer;\n",
              "      display: none;\n",
              "      fill: #1967D2;\n",
              "      height: 32px;\n",
              "      padding: 0 0 0 0;\n",
              "      width: 32px;\n",
              "    }\n",
              "\n",
              "    .colab-df-convert:hover {\n",
              "      background-color: #E2EBFA;\n",
              "      box-shadow: 0px 1px 2px rgba(60, 64, 67, 0.3), 0px 1px 3px 1px rgba(60, 64, 67, 0.15);\n",
              "      fill: #174EA6;\n",
              "    }\n",
              "\n",
              "    .colab-df-buttons div {\n",
              "      margin-bottom: 4px;\n",
              "    }\n",
              "\n",
              "    [theme=dark] .colab-df-convert {\n",
              "      background-color: #3B4455;\n",
              "      fill: #D2E3FC;\n",
              "    }\n",
              "\n",
              "    [theme=dark] .colab-df-convert:hover {\n",
              "      background-color: #434B5C;\n",
              "      box-shadow: 0px 1px 3px 1px rgba(0, 0, 0, 0.15);\n",
              "      filter: drop-shadow(0px 1px 2px rgba(0, 0, 0, 0.3));\n",
              "      fill: #FFFFFF;\n",
              "    }\n",
              "  </style>\n",
              "\n",
              "    <script>\n",
              "      const buttonEl =\n",
              "        document.querySelector('#df-d836c802-f6e6-40a0-9ad2-1af219ed9cca button.colab-df-convert');\n",
              "      buttonEl.style.display =\n",
              "        google.colab.kernel.accessAllowed ? 'block' : 'none';\n",
              "\n",
              "      async function convertToInteractive(key) {\n",
              "        const element = document.querySelector('#df-d836c802-f6e6-40a0-9ad2-1af219ed9cca');\n",
              "        const dataTable =\n",
              "          await google.colab.kernel.invokeFunction('convertToInteractive',\n",
              "                                                    [key], {});\n",
              "        if (!dataTable) return;\n",
              "\n",
              "        const docLinkHtml = 'Like what you see? Visit the ' +\n",
              "          '<a target=\"_blank\" href=https://colab.research.google.com/notebooks/data_table.ipynb>data table notebook</a>'\n",
              "          + ' to learn more about interactive tables.';\n",
              "        element.innerHTML = '';\n",
              "        dataTable['output_type'] = 'display_data';\n",
              "        await google.colab.output.renderOutput(dataTable, element);\n",
              "        const docLink = document.createElement('div');\n",
              "        docLink.innerHTML = docLinkHtml;\n",
              "        element.appendChild(docLink);\n",
              "      }\n",
              "    </script>\n",
              "  </div>\n",
              "\n",
              "\n",
              "<div id=\"df-021b61e5-de1c-4254-a763-3e069a5128e8\">\n",
              "  <button class=\"colab-df-quickchart\" onclick=\"quickchart('df-021b61e5-de1c-4254-a763-3e069a5128e8')\"\n",
              "            title=\"Suggest charts.\"\n",
              "            style=\"display:none;\">\n",
              "\n",
              "<svg xmlns=\"http://www.w3.org/2000/svg\" height=\"24px\"viewBox=\"0 0 24 24\"\n",
              "     width=\"24px\">\n",
              "    <g>\n",
              "        <path d=\"M19 3H5c-1.1 0-2 .9-2 2v14c0 1.1.9 2 2 2h14c1.1 0 2-.9 2-2V5c0-1.1-.9-2-2-2zM9 17H7v-7h2v7zm4 0h-2V7h2v10zm4 0h-2v-4h2v4z\"/>\n",
              "    </g>\n",
              "</svg>\n",
              "  </button>\n",
              "\n",
              "<style>\n",
              "  .colab-df-quickchart {\n",
              "      --bg-color: #E8F0FE;\n",
              "      --fill-color: #1967D2;\n",
              "      --hover-bg-color: #E2EBFA;\n",
              "      --hover-fill-color: #174EA6;\n",
              "      --disabled-fill-color: #AAA;\n",
              "      --disabled-bg-color: #DDD;\n",
              "  }\n",
              "\n",
              "  [theme=dark] .colab-df-quickchart {\n",
              "      --bg-color: #3B4455;\n",
              "      --fill-color: #D2E3FC;\n",
              "      --hover-bg-color: #434B5C;\n",
              "      --hover-fill-color: #FFFFFF;\n",
              "      --disabled-bg-color: #3B4455;\n",
              "      --disabled-fill-color: #666;\n",
              "  }\n",
              "\n",
              "  .colab-df-quickchart {\n",
              "    background-color: var(--bg-color);\n",
              "    border: none;\n",
              "    border-radius: 50%;\n",
              "    cursor: pointer;\n",
              "    display: none;\n",
              "    fill: var(--fill-color);\n",
              "    height: 32px;\n",
              "    padding: 0;\n",
              "    width: 32px;\n",
              "  }\n",
              "\n",
              "  .colab-df-quickchart:hover {\n",
              "    background-color: var(--hover-bg-color);\n",
              "    box-shadow: 0 1px 2px rgba(60, 64, 67, 0.3), 0 1px 3px 1px rgba(60, 64, 67, 0.15);\n",
              "    fill: var(--button-hover-fill-color);\n",
              "  }\n",
              "\n",
              "  .colab-df-quickchart-complete:disabled,\n",
              "  .colab-df-quickchart-complete:disabled:hover {\n",
              "    background-color: var(--disabled-bg-color);\n",
              "    fill: var(--disabled-fill-color);\n",
              "    box-shadow: none;\n",
              "  }\n",
              "\n",
              "  .colab-df-spinner {\n",
              "    border: 2px solid var(--fill-color);\n",
              "    border-color: transparent;\n",
              "    border-bottom-color: var(--fill-color);\n",
              "    animation:\n",
              "      spin 1s steps(1) infinite;\n",
              "  }\n",
              "\n",
              "  @keyframes spin {\n",
              "    0% {\n",
              "      border-color: transparent;\n",
              "      border-bottom-color: var(--fill-color);\n",
              "      border-left-color: var(--fill-color);\n",
              "    }\n",
              "    20% {\n",
              "      border-color: transparent;\n",
              "      border-left-color: var(--fill-color);\n",
              "      border-top-color: var(--fill-color);\n",
              "    }\n",
              "    30% {\n",
              "      border-color: transparent;\n",
              "      border-left-color: var(--fill-color);\n",
              "      border-top-color: var(--fill-color);\n",
              "      border-right-color: var(--fill-color);\n",
              "    }\n",
              "    40% {\n",
              "      border-color: transparent;\n",
              "      border-right-color: var(--fill-color);\n",
              "      border-top-color: var(--fill-color);\n",
              "    }\n",
              "    60% {\n",
              "      border-color: transparent;\n",
              "      border-right-color: var(--fill-color);\n",
              "    }\n",
              "    80% {\n",
              "      border-color: transparent;\n",
              "      border-right-color: var(--fill-color);\n",
              "      border-bottom-color: var(--fill-color);\n",
              "    }\n",
              "    90% {\n",
              "      border-color: transparent;\n",
              "      border-bottom-color: var(--fill-color);\n",
              "    }\n",
              "  }\n",
              "</style>\n",
              "\n",
              "  <script>\n",
              "    async function quickchart(key) {\n",
              "      const quickchartButtonEl =\n",
              "        document.querySelector('#' + key + ' button');\n",
              "      quickchartButtonEl.disabled = true;  // To prevent multiple clicks.\n",
              "      quickchartButtonEl.classList.add('colab-df-spinner');\n",
              "      try {\n",
              "        const charts = await google.colab.kernel.invokeFunction(\n",
              "            'suggestCharts', [key], {});\n",
              "      } catch (error) {\n",
              "        console.error('Error during call to suggestCharts:', error);\n",
              "      }\n",
              "      quickchartButtonEl.classList.remove('colab-df-spinner');\n",
              "      quickchartButtonEl.classList.add('colab-df-quickchart-complete');\n",
              "    }\n",
              "    (() => {\n",
              "      let quickchartButtonEl =\n",
              "        document.querySelector('#df-021b61e5-de1c-4254-a763-3e069a5128e8 button');\n",
              "      quickchartButtonEl.style.display =\n",
              "        google.colab.kernel.accessAllowed ? 'block' : 'none';\n",
              "    })();\n",
              "  </script>\n",
              "</div>\n",
              "    </div>\n",
              "  </div>\n"
            ]
          },
          "metadata": {},
          "execution_count": 54
        }
      ]
    },
    {
      "cell_type": "code",
      "source": [
        "# Show the resulting DataFrame\n",
        "df_rainfall.to_csv('/content/drive/MyDrive/RS Metrics - Datasets/RainfallwithMonth.csv', index = False)"
      ],
      "metadata": {
        "id": "6RLoSPtR_jTz"
      },
      "execution_count": null,
      "outputs": []
    },
    {
      "cell_type": "code",
      "source": [
        "df_rainfall.columns"
      ],
      "metadata": {
        "colab": {
          "base_uri": "https://localhost:8080/"
        },
        "id": "G6dMjzZY_j6p",
        "outputId": "aa661d76-cd01-44c0-8632-0c29c256efa9"
      },
      "execution_count": null,
      "outputs": [
        {
          "output_type": "execute_result",
          "data": {
            "text/plain": [
              "Index(['Year_Week', 'Rainfall Location ID', 'Precipitation (mm/week)',\n",
              "       'Latitude', 'Longitude', 'LocationName', 'LocationTypeGeneral',\n",
              "       'Sector', 'Industry', 'SubIndustry', 'CountryName', 'Year', 'Week'],\n",
              "      dtype='object')"
            ]
          },
          "metadata": {},
          "execution_count": 58
        }
      ]
    },
    {
      "cell_type": "code",
      "source": [],
      "metadata": {
        "id": "Qd8GUkYPGucP"
      },
      "execution_count": null,
      "outputs": []
    }
  ]
}